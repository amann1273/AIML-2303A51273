{
  "cells": [
    {
      "cell_type": "markdown",
      "metadata": {
        "id": "view-in-github",
        "colab_type": "text"
      },
      "source": [
        "<a href=\"https://colab.research.google.com/github/amannn09/AIML-2303A51273/blob/main/Lab03_Part%201.ipynb\" target=\"_parent\"><img src=\"https://colab.research.google.com/assets/colab-badge.svg\" alt=\"Open In Colab\"/></a>"
      ]
    },
    {
      "cell_type": "code",
      "source": [
        "def play_game(game, strategies: dict , verbose=False):\n",
        "\n",
        "  state = game.initial\n",
        "  while not game.is_terminal(state):\n",
        "    player = state.to_move\n",
        "    move = strategies[player](game, state)\n",
        "    state = game.result(state, move)\n",
        "    if verbose:\n",
        "      print('Player', player , 'move:', move)\n",
        "      print(state)\n",
        "  return state"
      ],
      "metadata": {
        "id": "_0Mon5hz_HqH"
      },
      "execution_count": 1,
      "outputs": []
    },
    {
      "cell_type": "code",
      "source": [
        "class Game:\n",
        "\n",
        "  def actions(self, state):\n",
        "##Return a collection of the allowable moves from this state .\"\"\"\n",
        "    raise NotImplementedError\n",
        "\n",
        "  def result(self, state , move):\n",
        "#\"\"\"Return the state that results from making a move from a state .\"\"\"\n",
        "    raise NotImplementedError\n",
        "\n",
        "  def is_terminal(self, state):\n",
        "#\"\"\"Return True i f this is a final state for the game.\"\"\"\n",
        "    return not self.actions(state)\n",
        "\n",
        "  def utility(self, state , player):\n",
        "#\"\"\"Return the value of this final state to player.\"\"\"\n",
        "    raise NotImplementedError"
      ],
      "metadata": {
        "id": "o6oEmij-AGZx"
      },
      "execution_count": 2,
      "outputs": []
    }
  ],
  "metadata": {
    "colab": {
      "name": "Welcome To Colab",
      "provenance": [],
      "include_colab_link": true
    },
    "kernelspec": {
      "display_name": "Python 3",
      "name": "python3"
    }
  },
  "nbformat": 4,
  "nbformat_minor": 0
}